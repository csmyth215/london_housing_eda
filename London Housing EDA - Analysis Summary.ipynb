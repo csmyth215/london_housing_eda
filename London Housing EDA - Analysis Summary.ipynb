{
 "cells": [
  {
   "cell_type": "markdown",
   "metadata": {},
   "source": [
    "# London Housing and Population Analysis (2002 - 2015 data)"
   ]
  },
  {
   "cell_type": "markdown",
   "metadata": {},
   "source": [
    "## Analysis Summary"
   ]
  },
  {
   "cell_type": "markdown",
   "metadata": {},
   "source": [
    "### It is evident that factors beyond population figures (i.e. the need for housing) and age composition play a role in house sales and sell prices.\n",
    "\n",
    "London's population skews young: minors, in particular the under 10s, and the 25-34 age group are the most represented age brackets *(see Fig6, EDA5)*.\n",
    "\n",
    "However, boroughs where these age groups hold the largest population-share tend to see relatively low sales and prices: "
   ]
  },
  {
   "cell_type": "markdown",
   "metadata": {},
   "source": [
    "<img src=\"images/Fig15_sales_prices_against_borough_age_distribution.png\" />"
   ]
  },
  {
   "cell_type": "markdown",
   "metadata": {},
   "source": [
    "We can see that house sales and prices are highest where there is smaller disparity between the % represented by each age group.\n",
    "\n",
    "It is minors and 25-34 year olds who most commonly each make up 20%+ of a borough's population.   \n",
    "Where they do, houses sold and sell price stay towards the bottom of the graph.\n",
    "\n",
    "_Perhaps this is only logical?_\n",
    "\n",
    "   Under 34s may not have the same disposable income or savings as their elders and may be more likely to rent than purchase a property.  \n",
    "      They are more likely to be the parents of young minors, who therefore also stay in rented accommodation.  \n",
    "      \n",
    "_Our current data cannot shed light on who bought the properties behind the figures, either inhabitants or landlords._  \n",
    "Are landlord-owned properties sold less frequently and at a lower price, and more common where millenials and minors live?  \n",
    "This may explain the lower sales and prices seen to the right of the grids in Figure 15 and generates a possible idea, already, for a next EDA project."
   ]
  },
  {
   "cell_type": "markdown",
   "metadata": {},
   "source": [
    "### Our current data does, however, show different relationships between age composition and the housing market in different boroughs.\n",
    "\n",
    "We see that in 2015 house prices were on average 228% of their 2002 equivalents, although prices in different boroughs increased to different extents:"
   ]
  },
  {
   "cell_type": "markdown",
   "metadata": {},
   "source": [
    "<img src='images/Fig8_pct_change_borough_price.png' />"
   ]
  },
  {
   "cell_type": "markdown",
   "metadata": {},
   "source": [
    "\n",
    "\n",
    "To focus my analysis, I selected the five boroughs where prices rose **most steeply** (red) between 2002 and 2015 and the five boroughs where price increase was **slightest** (gold).\n",
    "\n",
    "Demographics did not change in a singular fashion with price:"
   ]
  },
  {
   "cell_type": "markdown",
   "metadata": {},
   "source": [
    "<img src='images/Fig11_net_pop_change_by_borough.png' />"
   ]
  },
  {
   "cell_type": "markdown",
   "metadata": {},
   "source": [
    "Although average sell prices boomed in the **steeps**, population stagnated in City of London and decreased in Kensington and Chelsea.    \n",
    "More consistent, and often bigger, population growth was seen in all five **slights** where prices increased relatively modestly.  "
   ]
  },
  {
   "cell_type": "markdown",
   "metadata": {},
   "source": [
    "### Significant change does not necessarily mean abrupt change."
   ]
  },
  {
   "cell_type": "markdown",
   "metadata": {},
   "source": [
    "Hackney showed the biggest population increase of the 10 focus boroughs, with growth concentrated among 25-34 year olds.   \n",
    "This fits with the media image of the area and the rise in bars and social venues predominantly used by millenials.  \n",
    "Our data suggests the growth in this demographic happened steadily over time:\n",
    "\n",
    "\n",
    "1. Compared to the other \"steeps\" and in fact many other boroughs, there are fewer outliers in Hackney's monthly average sell price, suggesting few spikes in the prices data.  At the same time, Hackney prices have a relatively small IQR, with the first and third quartiles almost equidistant from the median, suggesting a consistent change in prices, rather than any single jump or two."
   ]
  },
  {
   "cell_type": "markdown",
   "metadata": {},
   "source": [
    "<img src='images/Fig9_borough_sell_prices_boxplot(2).png' />"
   ]
  },
  {
   "cell_type": "markdown",
   "metadata": {},
   "source": [
    "2.  If we rank boroughs monthly based on average sell price, with the most expensive given Rank 1, we see that Hackney started the millenium as one of the least expensive boroughs and climbed up the ranks steadily, only consistently challenging the Top 10 in the 2010s. "
   ]
  },
  {
   "cell_type": "markdown",
   "metadata": {},
   "source": [
    "<img src='images/Fig12_hackney_rank.png' />"
   ]
  },
  {
   "cell_type": "markdown",
   "metadata": {},
   "source": [
    "### Correlations are noticeable, albeit weak."
   ]
  },
  {
   "cell_type": "markdown",
   "metadata": {},
   "source": [
    "Setting stagnating City of London aside, the 45-54 bracket was the only population to noticeably increase in all focus boroughs.  \n",
    "From _Figure 11,_ in absolute terms, the increase does not appear bigger in **steep** boroughs than in **slights**.   \n",
    "However, when we consider 2015 45-54 focus borough population as a percent of their 2002 equivalents, we see small positive correlations between Generation X population and sales numbers and price:"
   ]
  },
  {
   "cell_type": "markdown",
   "metadata": {},
   "source": [
    "<img src='images/Fig14_correlation_45_54.png' />"
   ]
  },
  {
   "cell_type": "markdown",
   "metadata": {},
   "source": [
    "The increase in Generation X Londoners between 2002 and 2015 - and the earnings, savings and disposable income that accompanied them - may indeed have been a primary force driving house sales and prices up."
   ]
  },
  {
   "cell_type": "markdown",
   "metadata": {},
   "source": [
    "### The data doesn't hide the economic picture behind house sales transactions."
   ]
  },
  {
   "cell_type": "markdown",
   "metadata": {},
   "source": [
    "The 2008 financial crash is visible in house sale figures across England *(see Fig2, EDA2)*, and in both sales activity and price at the London borough level.  \n",
    "\n",
    "\n",
    "As of 2015, sales activity had not returned to pre-2008 levels, yet average sell price - most notably in more expensive boroughs - had surpassed 00's prices and the population continued to grow."
   ]
  },
  {
   "cell_type": "markdown",
   "metadata": {},
   "source": [
    "<img src='images/Fig7b_year_sales_prices_relationship.png' />"
   ]
  },
  {
   "cell_type": "markdown",
   "metadata": {},
   "source": [
    "\n",
    "What has been unknown throughout this analysis is whether or not prices in the data set have been adjusted for inflation.    \n",
    "Knowing this, combined with analysis of the property purchase behaviour of different ages, of owner-tenants and of landlords, may shed light on how the housing market is likely to evolve as it recovers from its latest setback and we exit the 2020 recession. "
   ]
  },
  {
   "cell_type": "markdown",
   "metadata": {},
   "source": [
    "#### _What else could improve this analysis?_"
   ]
  },
  {
   "cell_type": "markdown",
   "metadata": {},
   "source": [
    "_TBC, including initial feedback_"
   ]
  },
  {
   "cell_type": "code",
   "execution_count": null,
   "metadata": {},
   "outputs": [],
   "source": []
  }
 ],
 "metadata": {
  "kernelspec": {
   "display_name": "Python 3",
   "language": "python",
   "name": "python3"
  },
  "language_info": {
   "codemirror_mode": {
    "name": "ipython",
    "version": 3
   },
   "file_extension": ".py",
   "mimetype": "text/x-python",
   "name": "python",
   "nbconvert_exporter": "python",
   "pygments_lexer": "ipython3",
   "version": "3.6.5"
  }
 },
 "nbformat": 4,
 "nbformat_minor": 2
}
