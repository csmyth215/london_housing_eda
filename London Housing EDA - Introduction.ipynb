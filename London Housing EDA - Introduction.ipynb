{
 "cells": [
  {
   "cell_type": "markdown",
   "metadata": {},
   "source": [
    "# London Housing and Population Analysis (2002 - 2015 data)"
   ]
  },
  {
   "cell_type": "markdown",
   "metadata": {},
   "source": [
    "## Introduction"
   ]
  },
  {
   "cell_type": "markdown",
   "metadata": {},
   "source": [
    "My goal is to explore the relationship between the London housing market (number of houses sold and average house sell price) and changes in the age make-up of the city's population, between 2002 and 2015. \n",
    "\n",
    "The data sets that will be used for this analysis are:\n",
    "\n",
    "i) Pricing and sales figures from the London Datastore, combined and made available by Justinas Cirtautas on Kaggle - https://www.kaggle.com/justinas/housing-in-london\n",
    "\n",
    "ii) London Borough population figures from the Office for National Statistics - https://data.london.gov.uk/dataset/office-national-statistics-ons-population-estimates-borough\n",
    "\n",
    "\n",
    "I will first demonstrate trends in house sales and prices, on the regional and on a London borough level.\n",
    "I will then show how the age composition of borough populations has changed over time.\n",
    "My third stage is to combine housing and population data sets to determine whether there is a direct correlation between increasing population in a particular age group and increasing house sales and prices.  This last stage will involve focusing on 10 selected boroughs: those with the biggest and the smallest relative change in house prices over the 14-year period.\n",
    "\n",
    "There are 11 sections in this EDA, including preparation, cleaning and merging of the data sets."
   ]
  }
 ],
 "metadata": {
  "kernelspec": {
   "display_name": "Python 3",
   "language": "python",
   "name": "python3"
  },
  "language_info": {
   "codemirror_mode": {
    "name": "ipython",
    "version": 3
   },
   "file_extension": ".py",
   "mimetype": "text/x-python",
   "name": "python",
   "nbconvert_exporter": "python",
   "pygments_lexer": "ipython3",
   "version": "3.6.5"
  }
 },
 "nbformat": 4,
 "nbformat_minor": 2
}
