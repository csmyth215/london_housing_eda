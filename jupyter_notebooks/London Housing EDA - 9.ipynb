{
 "cells": [
  {
   "cell_type": "markdown",
   "metadata": {},
   "source": [
    "# London Housing and Population Analysis (2002 - 2015 data)"
   ]
  },
  {
   "cell_type": "markdown",
   "metadata": {},
   "source": [
    "## 9. Data set creation - changes in age bracket population, houses sold and average sell price"
   ]
  },
  {
   "cell_type": "code",
   "execution_count": 1,
   "metadata": {},
   "outputs": [],
   "source": [
    "import pandas as pd\n",
    "import numpy as np\n",
    "import matplotlib.pyplot as plt\n",
    "import seaborn as sns"
   ]
  },
  {
   "cell_type": "code",
   "execution_count": 2,
   "metadata": {},
   "outputs": [
    {
     "name": "stdout",
     "output_type": "stream",
     "text": [
      "<class 'pandas.core.frame.DataFrame'>\n",
      "Int64Index: 462 entries, 0 to 461\n",
      "Data columns (total 12 columns):\n",
      " #   Column         Non-Null Count  Dtype \n",
      "---  ------         --------------  ----- \n",
      " 0   borough        462 non-null    object\n",
      " 1   year           462 non-null    int64 \n",
      " 2   all_ages       462 non-null    int64 \n",
      " 3   minor          462 non-null    int64 \n",
      " 4   18_24          462 non-null    int64 \n",
      " 5   25_34          462 non-null    int64 \n",
      " 6   35_44          462 non-null    int64 \n",
      " 7   45_54          462 non-null    int64 \n",
      " 8   55_64          462 non-null    int64 \n",
      " 9   65+            462 non-null    int64 \n",
      " 10  houses_sold    462 non-null    int64 \n",
      " 11  average_price  462 non-null    int64 \n",
      "dtypes: int64(11), object(1)\n",
      "memory usage: 46.9+ KB\n"
     ]
    }
   ],
   "source": [
    "df = pd.read_csv('..raw_data/pops_sales_and_prices.csv', index_col=[0])\n",
    "\n",
    "# Confirm data set structure:\n",
    "df.info()"
   ]
  },
  {
   "cell_type": "code",
   "execution_count": 3,
   "metadata": {},
   "outputs": [],
   "source": [
    "# Create column for each age bracket, houses sold and average price, in each borough, \n",
    "# with annual change and year-on-year percentage change:\n",
    "column_names = df.columns.tolist()\n",
    "int_column_names = column_names[2: ]\n",
    "for column_name in int_column_names:\n",
    "    df[f'{column_name}_change'] = df.groupby(['borough'])[column_name].diff()\n",
    "    df[f'{column_name}_pct_change'] = df.groupby(['borough'])[column_name].pct_change()\n",
    "df.to_csv('..raw_data/borough_changes.csv')\n",
    "\n",
    "# Select focus boroughs identified from 2002-2015 comparison:\n",
    "steeps = ['westminster', 'kensington and chelsea', 'city of london', 'hackney', 'islington']\n",
    "slights = ['hounslow', 'bexley', 'sutton', 'havering', 'croydon']\n",
    "focus_df = df[(df['borough'].isin(steeps)) | (df['borough'].isin(slights))].copy()\n",
    "focus_df.to_csv('..raw_data/focus_borough_changes.csv')"
   ]
  }
 ],
 "metadata": {
  "kernelspec": {
   "display_name": "Python 3",
   "language": "python",
   "name": "python3"
  },
  "language_info": {
   "codemirror_mode": {
    "name": "ipython",
    "version": 3
   },
   "file_extension": ".py",
   "mimetype": "text/x-python",
   "name": "python",
   "nbconvert_exporter": "python",
   "pygments_lexer": "ipython3",
   "version": "3.6.5"
  }
 },
 "nbformat": 4,
 "nbformat_minor": 2
}
