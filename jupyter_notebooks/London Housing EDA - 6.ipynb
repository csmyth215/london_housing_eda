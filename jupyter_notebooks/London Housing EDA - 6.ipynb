{
 "cells": [
  {
   "cell_type": "markdown",
   "metadata": {},
   "source": [
    "# London Housing and Population Analysis (2002 - 2015 data)"
   ]
  },
  {
   "cell_type": "markdown",
   "metadata": {},
   "source": [
    "## 6. Housing and Population Merged Data set creation"
   ]
  },
  {
   "cell_type": "code",
   "execution_count": 1,
   "metadata": {},
   "outputs": [],
   "source": [
    "import pandas as pd\n",
    "import numpy as np\n",
    "import matplotlib.pyplot as plt\n",
    "import seaborn as sns"
   ]
  },
  {
   "cell_type": "code",
   "execution_count": 2,
   "metadata": {},
   "outputs": [
    {
     "name": "stdout",
     "output_type": "stream",
     "text": [
      "<class 'pandas.core.frame.DataFrame'>\n",
      "Int64Index: 8918 entries, 0 to 8917\n",
      "Data columns (total 12 columns):\n",
      " #   Column     Non-Null Count  Dtype \n",
      "---  ------     --------------  ----- \n",
      " 0   ward_code  8918 non-null   object\n",
      " 1   year       8918 non-null   int64 \n",
      " 2   ward_name  8918 non-null   object\n",
      " 3   borough    8918 non-null   object\n",
      " 4   all_ages   8918 non-null   int64 \n",
      " 5   minor      8918 non-null   int64 \n",
      " 6   18_24      8918 non-null   int64 \n",
      " 7   25_34      8918 non-null   int64 \n",
      " 8   35_44      8918 non-null   int64 \n",
      " 9   45_54      8918 non-null   int64 \n",
      " 10  55_64      8918 non-null   int64 \n",
      " 11  65+        8918 non-null   int64 \n",
      "dtypes: int64(9), object(3)\n",
      "memory usage: 905.7+ KB\n",
      "<class 'pandas.core.frame.DataFrame'>\n",
      "RangeIndex: 9867 entries, 0 to 9866\n",
      "Data columns (total 4 columns):\n",
      " #   Column         Non-Null Count  Dtype  \n",
      "---  ------         --------------  -----  \n",
      " 0   date           9867 non-null   object \n",
      " 1   area           9867 non-null   object \n",
      " 2   average_price  9867 non-null   int64  \n",
      " 3   houses_sold    9867 non-null   float64\n",
      "dtypes: float64(1), int64(1), object(2)\n",
      "memory usage: 308.5+ KB\n"
     ]
    }
   ],
   "source": [
    "# Compare and merge ages and prices data sets:\n",
    "\n",
    "ages = pd.read_csv('..raw_data/population_dataset_bracketed.csv', index_col=[0])\n",
    "prices = pd.read_csv('..raw_data/borough_dataset.csv')\n",
    "\n",
    "# Confirm data set structure:\n",
    "ages.info()\n",
    "prices.info()"
   ]
  },
  {
   "cell_type": "code",
   "execution_count": 3,
   "metadata": {},
   "outputs": [],
   "source": [
    "ages['year'] = ages['year'].astype('str')\n",
    "prices['date'] = pd.to_datetime(prices['date']).dt.strftime('%Y')\n",
    "\n",
    "# match appelations:\n",
    "ages['borough'] = ages['borough'].str.lower()\n",
    "prices = prices.rename(columns={'date': 'year', 'area': 'borough'})\n",
    "# check appelations and counts match:\n",
    "boroughs1 = set(ages['borough'].unique().tolist())\n",
    "boroughs2 = set(prices['borough'].unique().tolist())\n",
    "shared_values = boroughs1.intersection(boroughs2)\n",
    "len(boroughs1), len(boroughs2), len(shared_values)\n",
    "\n",
    "# Group ages by borough:\n",
    "borough_ages = ages.drop(columns=['ward_code', 'ward_name'])\n",
    "borough_ages = borough_ages.groupby(['borough', 'year']).sum().reset_index()\n",
    "\n",
    "# Group house sales and prices by borough and year:\n",
    "annual_sales = prices.groupby(['borough', 'year'])['houses_sold'].sum().astype('int64').reset_index()\n",
    "mean_annual_prices = prices.groupby(['borough', 'year'])['average_price'].mean().astype('int64').reset_index()\n",
    "annual_housing = pd.merge(annual_sales, mean_annual_prices, how='left', on=['borough', 'year'])\n",
    "\n",
    "# Create borough population and housing data set:\n",
    "df = pd.merge(borough_ages, annual_housing, how='left', on=['borough', 'year'])\n",
    "df.to_csv('..raw_data/pops_sales_and_prices.csv')"
   ]
  }
 ],
 "metadata": {
  "kernelspec": {
   "display_name": "Python 3",
   "language": "python",
   "name": "python3"
  },
  "language_info": {
   "codemirror_mode": {
    "name": "ipython",
    "version": 3
   },
   "file_extension": ".py",
   "mimetype": "text/x-python",
   "name": "python",
   "nbconvert_exporter": "python",
   "pygments_lexer": "ipython3",
   "version": "3.6.5"
  }
 },
 "nbformat": 4,
 "nbformat_minor": 2
}
