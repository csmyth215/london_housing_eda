{
 "cells": [
  {
   "cell_type": "markdown",
   "metadata": {},
   "source": [
    "# London Housing and Population Analysis (2002 - 2015 data)"
   ]
  },
  {
   "cell_type": "markdown",
   "metadata": {},
   "source": [
    "## 4. EDA of London Population (Age)"
   ]
  },
  {
   "cell_type": "code",
   "execution_count": 6,
   "metadata": {},
   "outputs": [],
   "source": [
    "import pandas as pd\n",
    "import numpy as np\n",
    "import matplotlib.pyplot as plt\n",
    "import seaborn as sns"
   ]
  },
  {
   "cell_type": "code",
   "execution_count": 7,
   "metadata": {},
   "outputs": [],
   "source": [
    "ages = pd.read_csv('C:/Users/csmyth/Desktop/Code/london_housing_eda/ward-mid-year-estimates-sya-since-2002.csv')\n",
    "\n",
    "# Explore and tidy data:\n",
    "\n",
    "ages.columns.tolist()\n",
    "ages.isna().sum()\n",
    "total_pop_column = ages.columns[4]\n",
    "ages = ages.rename(columns={total_pop_column: 'all_ages', 'Year': 'year', 'WD12CD': 'ward_code', 'WD12NM': 'ward_name', 'LAD12NM': 'borough', })\n",
    "# Check format changes:\n",
    "head_view = ages.iloc[:6, :6]"
   ]
  },
  {
   "cell_type": "code",
   "execution_count": 8,
   "metadata": {},
   "outputs": [
    {
     "name": "stdout",
     "output_type": "stream",
     "text": [
      "Figure 5 - Start, End, Average population figures\n",
      "\n",
      " | borough                |   min_pop |   max_pop |   mean_pop |\n",
      "|:-----------------------|----------:|----------:|-----------:|\n",
      "| Croydon                |    335415 |    379031 |     353824 |\n",
      "| Barnet                 |    320552 |    379691 |     345780 |\n",
      "| Ealing                 |    308108 |    343059 |     326422 |\n",
      "| Bromley                |    296668 |    324857 |     307379 |\n",
      "| Enfield                |    280745 |    328433 |     301453 |\n",
      "| Wandsworth             |    274917 |    314544 |     295861 |\n",
      "| Brent                  |    268323 |    324012 |     294285 |\n",
      "| Lambeth                |    272195 |    324431 |     293928 |\n",
      "| Newham                 |    253798 |    332817 |     286144 |\n",
      "| Southwark              |    255242 |    308901 |     278912 |\n",
      "| Lewisham               |    251936 |    297325 |     269680 |\n",
      "| Redbridge              |    244273 |    296793 |     268762 |\n",
      "| Hillingdon             |    247063 |    297735 |     266948 |\n",
      "| Haringey               |    224474 |    272864 |     245747 |\n",
      "| Waltham Forest         |    223776 |    271170 |     245541 |\n",
      "| Greenwich              |    221476 |    274803 |     244972 |\n",
      "| Hounslow               |    216498 |    268770 |     241386 |\n",
      "| Tower Hamlets          |    207031 |    295236 |     241137 |\n",
      "| Hackney                |    210961 |    269009 |     235455 |\n",
      "| Havering               |    225054 |    249085 |     234142 |\n",
      "| Harrow                 |    212336 |    247130 |     230952 |\n",
      "| Bexley                 |    219123 |    242142 |     228685 |\n",
      "| Westminster            |    208100 |    242299 |     221354 |\n",
      "| Camden                 |    203972 |    241059 |     216985 |\n",
      "| Islington              |    180118 |    227692 |     197849 |\n",
      "| Merton                 |    188908 |    204565 |     196666 |\n",
      "| Sutton                 |    181094 |    200145 |     188219 |\n",
      "| Richmond upon Thames   |    175441 |    194730 |     184882 |\n",
      "| Barking and Dagenham   |    165610 |    201979 |     178980 |\n",
      "| Hammersmith and Fulham |    171510 |    182445 |     176915 |\n",
      "| Kensington and Chelsea |    155593 |    168374 |     161425 |\n",
      "| Kingston upon Thames   |    149642 |    173525 |     158401 |\n",
      "| City of London         |      7115 |      8760 |       7517 |\n"
     ]
    }
   ],
   "source": [
    "# Check plausibility - 2002, 2015 and average annual population per borough:\n",
    "annual_borough_pop = ages.groupby(['borough', 'year'])['all_ages'].sum().reset_index()\n",
    "avg_borough_pop = annual_borough_pop.groupby('borough')['all_ages'].mean().astype('int64')\n",
    "min_borough_pop = annual_borough_pop.groupby('borough')['all_ages'].min().astype('int64')\n",
    "max_borough_pop = annual_borough_pop.groupby('borough')['all_ages'].max().astype('int64')\n",
    "\n",
    "first_year = annual_borough_pop[annual_borough_pop['year'] == 2002]\n",
    "last_year = annual_borough_pop[annual_borough_pop['year'] == 2015]\n",
    "first_year_pop = first_year['all_ages'].sum()\n",
    "last_year_pop = last_year['all_ages'].sum()\n",
    "\n",
    "data = {'min_pop': min_borough_pop, \n",
    "'max_pop': max_borough_pop, 'mean_pop': avg_borough_pop}\n",
    "pop_trends = pd.DataFrame(data, columns=data.keys())\n",
    "pop_trends.sort_values(by='mean_pop', inplace=True, ascending=False)\n",
    "#Fig5\n",
    "print(\"Figure 5 - Start, End, Average population figures\\n\\n\", pop_trends.to_markdown())"
   ]
  },
  {
   "cell_type": "markdown",
   "metadata": {},
   "source": [
    "Croydon is the most populous borough; City of London is by far the least populous."
   ]
  },
  {
   "cell_type": "code",
   "execution_count": 9,
   "metadata": {},
   "outputs": [],
   "source": [
    "# Bucket ages - Under 18s:\n",
    "ages['minor'] = ages[['m0', 'm1', 'm2', 'm3', 'm4', 'm5', 'm6', 'm7', 'm8', 'm9', 'm10', 'm11', \n",
    "'m12', 'm13', 'm14', 'm15', 'm16', 'm17', 'f0', 'f1', 'f2', 'f3', 'f4', 'f5', 'f6', 'f7', 'f8', \n",
    "'f9', 'f10', 'f11', 'f12', 'f13', 'f14', 'f15', 'f16', 'f17']].sum(1)\n",
    "\n",
    "# Check first bucket creation:\n",
    "ages['minor'].head()\n",
    "ages.iloc[:6, 4:22]\n",
    "\n",
    "# Bucket remaining ages:\n",
    "ages['18_24'] = ages[['m18', 'm19', 'm20', 'm21', 'm22', 'm23', 'm24', \n",
    "'f18', 'f19', 'f20', 'f21', 'f22', 'f23', 'f24',]].sum(1)\n",
    "ages['25_34'] = ages[['m25', 'm26', 'm27', 'm28', 'm29', 'm30', 'm31', 'm32', 'm33', 'm34', \n",
    "'f25', 'f26', 'f27', 'f28', 'f29', 'f30', 'f31', 'f32', 'f33', 'f34']].sum(1)\n",
    "ages['35_44'] = ages[['m35', 'm36', 'm37', 'm38', 'm39', 'm40', 'm41', 'm42', 'm43', 'm44', \n",
    "'f35', 'f36', 'f37', 'f38', 'f39', 'f40', 'f41', 'f42', 'f43', 'f44']].sum(1)\n",
    "ages['45_54'] = ages[['m45', 'm46', 'm47', 'm48', 'm49', 'm50', 'm51', 'm52', 'm53', 'm54', \n",
    "'f45', 'f46', 'f47', 'f48', 'f49', 'f50', 'f51', 'f52', 'f53', 'f54']].sum(1)\n",
    "ages['55_64'] = ages[['m55', 'm56', 'm57', 'm58', 'm59', 'm60', 'm61', 'm62', 'm63', 'm64', \n",
    "'f55', 'f56', 'f57', 'f58', 'f59', 'f60', 'f61', 'f62', 'f63', 'f64']].sum(1)\n",
    "ages['65+'] = ages[['m65', 'm66', 'm67', 'm68', 'm69', 'm70', 'm71', 'm72', 'm73', \n",
    "'m74', 'm75', 'm76', 'm77', 'm78', 'm79', 'm80', 'm81', 'm82', 'm83', 'm84', 'm85', \n",
    "'m86', 'm87', 'm88', 'm89', 'm90plus', 'f65', 'f66', 'f67', 'f68', 'f69', 'f70', \n",
    "'f71', 'f72', 'f73', 'f74', 'f75', 'f76', 'f77', 'f78', 'f79', 'f80', 'f81', \n",
    "'f82', 'f83', 'f84', 'f85', 'f86', 'f87', 'f88', 'f89', 'f90plus']].sum(1)\n",
    "\n",
    "# Check age-bracket accuracy:\n",
    "recent_year = ages[ages['year'] == 2015]\n",
    "totals = [recent_year['minor'].sum(),\n",
    "recent_year['18_24'].sum(), \n",
    "recent_year['25_34'].sum(),\n",
    "recent_year['35_44'].sum(),\n",
    "recent_year['45_54'].sum(),\n",
    "recent_year['55_64'].sum(),\n",
    "recent_year['65+'].sum()]\n",
    "\n",
    "total_pop = 0\n",
    "for x in totals:\n",
    "    total_pop += x"
   ]
  },
  {
   "cell_type": "code",
   "execution_count": 10,
   "metadata": {},
   "outputs": [],
   "source": [
    "# Create separate files for further analysis: \n",
    "# (i) SYA population \n",
    "# (ii) Population by age bracket:\n",
    "\n",
    "column_names = ages.columns.tolist()\n",
    "overview_columns = ['ward_code', 'year', 'ward_name', 'borough', 'all_ages', 'minor', '18_24', '25_34', '35_44', '45_54',\n",
    "'55_64', '65+']\n",
    "breakdown_columns = ['ward_code', 'year', 'ward_name', 'borough', ]\n",
    "for name in column_names:\n",
    "    if name not in overview_columns:\n",
    "        breakdown_columns.append(name)\n",
    "\n",
    "age_overview = ages[overview_columns]\n",
    "age_breakdown = ages[breakdown_columns]\n",
    "age_overview.to_csv('population_dataset_bracketed.csv')\n",
    "age_breakdown.to_csv('population_dataset_sya.csv')"
   ]
  }
 ],
 "metadata": {
  "kernelspec": {
   "display_name": "Python 3",
   "language": "python",
   "name": "python3"
  },
  "language_info": {
   "codemirror_mode": {
    "name": "ipython",
    "version": 3
   },
   "file_extension": ".py",
   "mimetype": "text/x-python",
   "name": "python",
   "nbconvert_exporter": "python",
   "pygments_lexer": "ipython3",
   "version": "3.6.5"
  }
 },
 "nbformat": 4,
 "nbformat_minor": 2
}
